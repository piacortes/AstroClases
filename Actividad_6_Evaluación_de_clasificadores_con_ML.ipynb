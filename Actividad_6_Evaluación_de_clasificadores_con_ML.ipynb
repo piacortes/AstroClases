{
  "nbformat": 4,
  "nbformat_minor": 0,
  "metadata": {
    "colab": {
      "name": "Actividad 6 Evaluación de clasificadores con ML.ipynb",
      "version": "0.3.2",
      "provenance": [],
      "collapsed_sections": [],
      "include_colab_link": true
    },
    "kernelspec": {
      "display_name": "Python 3",
      "language": "python",
      "name": "python3"
    }
  },
  "cells": [
    {
      "cell_type": "markdown",
      "metadata": {
        "id": "view-in-github",
        "colab_type": "text"
      },
      "source": [
        "<a href=\"https://colab.research.google.com/github/piacortes/astroclases/blob/master/Actividad_6_Evaluaci%C3%B3n_de_clasificadores_con_ML.ipynb\" target=\"_parent\"><img src=\"https://colab.research.google.com/assets/colab-badge.svg\" alt=\"Open In Colab\"/></a>"
      ]
    },
    {
      "metadata": {
        "id": "9sflCJ9zlA-A",
        "colab_type": "text"
      },
      "cell_type": "markdown",
      "source": [
        "# EI2001: Ciencia de Datos en Astronomía\n",
        "**Profesores:** Pía Cortés, Daniela Barrientos, Matías Suazo, Matías Mattamala\n",
        "\n",
        "# Actividad Clase 6 - Validación de clasificadores en Machine Learning\n",
        "## Separando estrellas de galaxias con los datos de SDSS\n",
        "\n",
        "**Objetivos:** \n",
        "1. Introducción al Machine Learning en Python\n",
        "2. Librería Scikit Learn\n",
        "3. Uso de Métodos de clasificacion\n",
        "4. Preaparacion de datos\n",
        "5. Creacion de Modelo\n",
        "6. Clasificación\n",
        " \n",
        " "
      ]
    },
    {
      "metadata": {
        "id": "AgwJeI8YaDuD",
        "colab_type": "text"
      },
      "cell_type": "markdown",
      "source": [
        "Al igual que en la clase anterior, antes de comenzar la actividad instalaremos  [`astroquery`](https://astroquery.readthedocs.io/en/latest/). "
      ]
    },
    {
      "metadata": {
        "id": "Gw23RcpJlPbL",
        "colab_type": "code",
        "outputId": "5a7e2aa3-4a3c-4345-98ea-793db5e03e86",
        "colab": {
          "base_uri": "https://localhost:8080/",
          "height": 109
        }
      },
      "cell_type": "code",
      "source": [
        "# Al agregar ! convertimos nuestro codigo de python a bash (lenguaje usado en la terminal)\n",
        "!pip install --pre  --quiet astroquery"
      ],
      "execution_count": 0,
      "outputs": [
        {
          "output_type": "stream",
          "text": [
            "\u001b[K    100% |████████████████████████████████| 4.2MB 6.1MB/s \n",
            "\u001b[K    100% |████████████████████████████████| 61kB 18.4MB/s \n",
            "\u001b[K    100% |████████████████████████████████| 2.3MB 12.2MB/s \n",
            "\u001b[K    100% |████████████████████████████████| 102kB 26.2MB/s \n",
            "\u001b[?25h  Building wheel for astroquery (setup.py) ... \u001b[?25ldone\n",
            "\u001b[?25h"
          ],
          "name": "stdout"
        }
      ]
    },
    {
      "metadata": {
        "id": "kTH6sxgwlA-H",
        "colab_type": "text"
      },
      "cell_type": "markdown",
      "source": [
        "# Preliminares\n",
        "\n",
        "Para empezar utilizaremos el mismo ejemplo de la clase pasada, en que clasificamos estrellas y galaxias  usando **k-Nearest Neighbors**\n",
        "\n",
        "Recordemos que en este ejemplo:\n",
        "\n",
        "- Utilizamos tablas de datos obtenidos de **SDSS**. Los datos fueron obtenidos con **`astroquery`**\n",
        "- Seleccionamos como atributo la fotometría de la **banda r**, para no tener que lidiar con los otros 454 atributos asociados a cada fuente.\n",
        "- La fotometría de la banda r consistía en 8 valores, que consideramos como un solo vector de atributos:  `psfMag_r, fiberMag_r, fiber2Mag_r, petroMag_r, devMag_r, expMag_r, modelMag_r, cModelMag_r`\n",
        "- Las clases que nos interesaba identificar eran **galaxias** (representadas con un 0) o **estrellas** (representadas con un 1).\n",
        "- Utilizamos el paquete [`Scikit Learn`](https://scikit-learn.org/stable/). Scikit learn requiere que nuestros datos esten en alguna estructura de datos donde las columnas sean los atributos y las filas los objetos. \n",
        "\n",
        "## Paso 1: Preprocesamiento de los datos\n",
        "\n",
        "Antes que todo debemos:\n",
        "1. Obtener los datos\n",
        "2. Identificar las clases\n",
        "3. Seleccionar los atributos\n",
        "4. Separar los conjntos de entrenamiento y prueba"
      ]
    },
    {
      "metadata": {
        "id": "ijg_JSXklA-d",
        "colab_type": "code",
        "outputId": "d804cf6a-3499-4a2b-86bd-e54fc3203b17",
        "colab": {
          "base_uri": "https://localhost:8080/",
          "height": 74
        }
      },
      "cell_type": "code",
      "source": [
        "# Importamos las librerias importantes\n",
        "import numpy as np\n",
        "import pandas as pd\n",
        "import seaborn as sns\n",
        "import matplotlib.pyplot as plt\n",
        "\n",
        "# Importamos astroquery\n",
        "from astroquery.sdss import SDSS\n",
        "\n",
        "# Importamos train_test_split de scikit-learn para separar los conjuntos\n",
        "from sklearn.model_selection import train_test_split\n",
        "\n",
        "\n",
        "# Vamos a seleccionar 20000 objetos de los catálogos de SDSS\n",
        "data = SDSS.query_sql(\"\"\"SELECT TOP 20000\n",
        "                      p.psfMag_r, p.fiberMag_r, p.fiber2Mag_r, p.petroMag_r, \n",
        "                      p.deVMag_r, p.expMag_r, p.modelMag_r, p.cModelMag_r, \n",
        "                      s.class\n",
        "                      \n",
        "                      FROM PhotoObjAll AS p JOIN specObjAll s ON s.bestobjid = p.objid\n",
        "                      \n",
        "                      WHERE p.mode = 1 AND s.sciencePrimary = 1 AND p.clean = 1 AND s.class != 'QSO'\n",
        "                      \n",
        "                      \"\"\")\n",
        "\n",
        "# Cambiamos el formato de la tabla obtenida con astroquery a pandas\n",
        "data_df = data.to_pandas()\n",
        "\n",
        "# Identificamos las clases existentes y creamos un mapeo\n",
        "clases = data_df['class'].unique()\n",
        "mapa = {}\n",
        "for clase, i in enumerate(clases):\n",
        "    mapa[i] = clase\n",
        "    \n",
        "# Separamos en conjunto de atributos en un Dataframe X\n",
        "X = np.array(data_df.iloc[:,:-1])\n",
        "\n",
        "# Separamos el conjunto de clases, y reemplazamos los string por un valor numérico\n",
        "# En este caso la clase galaxia se asocia a un 0, estrellas a un 1\n",
        "y = np.array(data_df['class'].map(mapa))\n",
        "\n",
        "# Guardamos la semilla para separar aleatoriamente los datos\n",
        "rs = 1851\n",
        "\n",
        "# Separamos el conjunto de entrenamiento y prueba usando scikit-learn y la semilla anterior\n",
        "# Escogemos un conjunto de entrenamiento del 70% de las muestras y 30% de test\n",
        "train_X, test_X, train_y, test_y = train_test_split(X, y, test_size = 0.3, random_state = rs)"
      ],
      "execution_count": 0,
      "outputs": [
        {
          "output_type": "stream",
          "text": [
            "/usr/local/lib/python3.6/dist-packages/astroquery/sdss/core.py:865: VisibleDeprecationWarning: Reading unicode strings without specifying the encoding argument is deprecated. Set the encoding, use None for the system default.\n",
            "  comments='#'))\n"
          ],
          "name": "stderr"
        }
      ]
    },
    {
      "metadata": {
        "id": "nvXsj-3QlBAT",
        "colab_type": "text"
      },
      "cell_type": "markdown",
      "source": [
        "## Paso 2: Entrenamiento del modelo de ML\n",
        "\n",
        "El segundo paso era identificar el tipo de problema para elegir el modelo de ML. Como este es un problema de clasificación, es aprendizaje supervisado, por lo que tenemos un [amplio espectro de modelos](https://scikit-learn.org/stable/supervised_learning.html) disponibles en scikit-learn. La semana pasada usamos un  [_k Nearest Neighbors_](https://scikit-learn.org/stable/modules/generated/sklearn.neighbors.KNeighborsClassifier.html), y por ahora mantendremos el mismo.\n",
        "\n",
        "Debemos recordar que un aspecto importante de este clasificador en particular, era el parámetro **`n_neighbors`**, que influía en la cantidad de vecinos utilizados para determinar a qué clase pertenecía una nueva fuente procesada por el algoritmo. En esta clase realizaremos un análisis más profundo de su influencia y cómo escoger el óptimo para cada problema.\n",
        "\n"
      ]
    },
    {
      "metadata": {
        "id": "7Vve9pcAlBAZ",
        "colab_type": "code",
        "colab": {}
      },
      "cell_type": "code",
      "source": [
        "# Importamos K-nearest neighbors de scikit-learn\n",
        "from sklearn.neighbors import KNeighborsClassifier\n",
        "\n",
        "# Creamos una variable para el clasificador\n",
        "knn_clf = KNeighborsClassifier(n_neighbors=25)"
      ],
      "execution_count": 0,
      "outputs": []
    },
    {
      "metadata": {
        "id": "U7iO59l7lBAh",
        "colab_type": "text"
      },
      "cell_type": "markdown",
      "source": [
        "#### Ejecutar el entrenamiento\n",
        "Como vimos, el entrenamiento es lo más sencillo de realizar gracias a las funciones de scikit-learn: __`modelo.fit(atributos, clases)`__"
      ]
    },
    {
      "metadata": {
        "id": "egnByiRblBAi",
        "colab_type": "code",
        "outputId": "6cbd397a-f149-44b8-896d-8dc849fcbd28",
        "colab": {
          "base_uri": "https://localhost:8080/",
          "height": 72
        }
      },
      "cell_type": "code",
      "source": [
        "# Entrenamos el clasificador utilizando los atributos y clases esperadas de acuerdo al conjunto de entrenamiento\n",
        "knn_clf.fit(train_X, train_y)"
      ],
      "execution_count": 0,
      "outputs": [
        {
          "output_type": "execute_result",
          "data": {
            "text/plain": [
              "KNeighborsClassifier(algorithm='auto', leaf_size=30, metric='minkowski',\n",
              "           metric_params=None, n_jobs=None, n_neighbors=25, p=2,\n",
              "           weights='uniform')"
            ]
          },
          "metadata": {
            "tags": []
          },
          "execution_count": 12
        }
      ]
    },
    {
      "metadata": {
        "id": "2Hi3aHbIlBA0",
        "colab_type": "text"
      },
      "cell_type": "markdown",
      "source": [
        "##Paso 3: Predicción con el modelo de ML\n",
        "\n",
        "Las predicciones del modelo se realizan usando datos distintos al conjunto de entrenamiento, en este caso el conjunto de prueba. Para ello lo realizaremos igual que como fue indicado en el meme de la primera clase"
      ]
    },
    {
      "metadata": {
        "id": "mIc_vMVSlBA4",
        "colab_type": "code",
        "colab": {}
      },
      "cell_type": "code",
      "source": [
        "# Hacemos la clasificacion del set de prueba\n",
        "pred_y = knn_clf.predict(test_X)"
      ],
      "execution_count": 0,
      "outputs": []
    },
    {
      "metadata": {
        "id": "YL1RqhZAM3SZ",
        "colab_type": "text"
      },
      "cell_type": "markdown",
      "source": [
        "## Paso 4: Evaluación del modelo - Matriz de Confusión\n",
        "\n",
        "La semana pasada también vimos que una forma estándar y sencilla de evaluar la precisión de un modelo de aprendizaje supervisado es a través de la Matriz de Confusión. En esta matriz las __columnas__ representan las __predicciones__ hechas para cada clase, mientras que las __filas__ representan las instancias de la clase real. \n",
        "\n",
        "Para que la visualización sea más clara, utilizaremos la función que vimos al final de la clase pasada"
      ]
    },
    {
      "metadata": {
        "id": "CWzYLoCqlBBj",
        "colab_type": "code",
        "colab": {}
      },
      "cell_type": "code",
      "source": [
        "# Utilizaremos la implementación de scikit-learn de esta matriz\n",
        "from sklearn.metrics import confusion_matrix\n",
        "\n",
        "from sklearn.utils.multiclass import unique_labels\n",
        "\n",
        "\n",
        "# Función para graficar una matriz de confusión enchulada\n",
        "def plot_confusion_matrix(y_true, y_pred, classes,\n",
        "                          normalize=False,\n",
        "                          use_perc=True,\n",
        "                          title=None,\n",
        "                          cmap=plt.cm.Blues):\n",
        "    \"\"\"\n",
        "    This function prints and plots the confusion matrix.\n",
        "    Normalization can be applied by setting `normalize=True`.\n",
        "    Showing percentual values instead of decimal ones is enabled with \n",
        "    `use_perc=True` only when `normalize=True`\n",
        "    \"\"\"\n",
        "    if not title:\n",
        "        if normalize:\n",
        "            title = 'Matriz de confusion normalizada'\n",
        "        else:\n",
        "            title = 'Matriz de confusion, sin normalizacion'\n",
        "\n",
        "    # Compute confusion matrix\n",
        "    cm = confusion_matrix(y_true, y_pred)\n",
        "    # Only use the labels that appear in the data\n",
        "    classes = classes[unique_labels(y_true, y_pred)]\n",
        "    if normalize:\n",
        "        cm = cm.astype('float') / cm.sum(axis=1)[:, np.newaxis]\n",
        "        cm = cm*100 if use_perc else cm\n",
        "        print(\"Matriz de confusion normalizada\")\n",
        "    else:\n",
        "        print('Matriz de confusion, sin normalizacion')\n",
        "\n",
        "    print(cm)\n",
        "\n",
        "    fig, ax = plt.subplots(figsize = (8,8))\n",
        "    im = ax.imshow(cm, interpolation='nearest', cmap=cmap)\n",
        "    ax.figure.colorbar(im, ax=ax)\n",
        "    # We want to show all ticks...\n",
        "    ax.set(xticks=np.arange(cm.shape[1]),\n",
        "           yticks=np.arange(cm.shape[0]),\n",
        "           # ... and label them with the respective list entries\n",
        "           xticklabels=classes, yticklabels=classes,\n",
        "           title=title,\n",
        "           ylabel='Etiqueta Real',\n",
        "           xlabel='Etiqueta Predicha')\n",
        "\n",
        "    # Rotate the tick labels and set their alignment.\n",
        "    plt.setp(ax.get_xticklabels(), rotation=45, ha=\"right\",\n",
        "             rotation_mode=\"anchor\", fontsize=15)\n",
        "\n",
        "    # Loop over data dimensions and create text annotations.\n",
        "    fmt = '.2f' if normalize else 'd'\n",
        "    thresh = cm.max() / 2.\n",
        "    for i in range(cm.shape[0]):\n",
        "        for j in range(cm.shape[1]):\n",
        "            val = format(cm[i, j], fmt)\n",
        "            val = str(val) + ' %' if (use_perc and normalize) else str(val)\n",
        "            ax.text(j, i, val, fontsize=25,\n",
        "                    ha=\"center\", va=\"center\",\n",
        "                    color=\"white\" if cm[i, j] > thresh else \"black\")\n",
        "            \n",
        "    ax.grid(False)\n",
        "    fig.tight_layout()\n",
        "    return ax"
      ],
      "execution_count": 0,
      "outputs": []
    },
    {
      "metadata": {
        "colab_type": "code",
        "outputId": "544e91a9-763f-47d1-918d-42377b06b97e",
        "id": "hqrFFOFw5Nrz",
        "colab": {
          "base_uri": "https://localhost:8080/",
          "height": 632
        }
      },
      "cell_type": "code",
      "source": [
        "plot_confusion_matrix(test_y, pred_y, classes=clases, normalize = True,\n",
        "                      title='Matriz de confusion, con normalizacion')"
      ],
      "execution_count": 0,
      "outputs": [
        {
          "output_type": "stream",
          "text": [
            "Matriz de confusion normalizada\n",
            "[[97.51  2.49]\n",
            " [ 3.05 96.95]]\n"
          ],
          "name": "stdout"
        },
        {
          "output_type": "execute_result",
          "data": {
            "text/plain": [
              "<matplotlib.axes._subplots.AxesSubplot at 0x7f5e1920e080>"
            ]
          },
          "metadata": {
            "tags": []
          },
          "execution_count": 110
        },
        {
          "output_type": "display_data",
          "data": {
            "image/png": "[encoded data removed]",
            "text/plain": [
              "<Figure size 576x576 with 2 Axes>"
            ]
          },
          "metadata": {
            "tags": []
          }
        }
      ]
    },
    {
      "metadata": {
        "id": "Bf4UAgUv7jWH",
        "colab_type": "text"
      },
      "cell_type": "markdown",
      "source": [
        "# Validación del modelo: ¿Cómo saber si lo que aprendió está bien?\n",
        "\n",
        "## Métricas: Falsos positivos (FP), Verdaderos positivos (TP), Falsos negativos (FN), Verdaderos negativos (TN)"
      ]
    },
    {
      "metadata": {
        "id": "GAp9t2aHLJNl",
        "colab_type": "code",
        "outputId": "5d8fcead-c676-4c42-cbee-cbcdf791d086",
        "colab": {
          "base_uri": "https://localhost:8080/",
          "height": 72
        }
      },
      "cell_type": "code",
      "source": [
        "# Obtenemos valores FP, TP, FN y TN de la matriz de confusión\n",
        "# Consideramos como clase \"positiva\" el ser galaxia, y \"negativa\" el ser estrella\n",
        "\n",
        "cm = confusion_matrix(test_y, pred_y)\n",
        "\n",
        "# TP\n",
        "# Número de elementos clasificados correctamente como galaxias\n",
        "tp = cm[0][0]\n",
        "\n",
        "# TN\n",
        "# Número de elementos clasificados correctamente como estrellas\n",
        "tn = cm[1][1]\n",
        "\n",
        "# FP\n",
        "# Número de elementos clasificados como galaxias siendo que eran estrellas\n",
        "fp = cm[1][0]\n",
        "\n",
        "# FN\n",
        "# Número de elementos clasificados como estrellas siendo que eran galaxias\n",
        "fn = cm[0][1]\n",
        "\n",
        "\n",
        "# Precision / Capacidad predictiva\n",
        "# Porcentaje de galaxias clasificadas correctamente en el total de galaxias predichas como tal\n",
        "precision = tp / (tp + fp)\n",
        "\n",
        "# Recall / Sensitivity / True Positive Rate\n",
        "# Porcentaje de galaxias clasificadas correctamente en el total de galaxias que efectivamente lo eran\n",
        "recall = tp / (tp + fn)\n",
        "\n",
        "# Accuracy\n",
        "# Representa el porcentaje total de galaxias y estrellas clasificadas correctamente en el total de elementos\n",
        "accuracy = (tp + tn) / (tp + fp + tn + fn)\n",
        "\n",
        "# Printeamos resultados\n",
        "print('Precision (a mano): ', format(precision_sk, '.3f'))\n",
        "print('Recall (a mano):    ', format(recall_sk, '.3f'))\n",
        "print('Accuracy (a mano):  ', format(accuracy_sk, '.3f'))"
      ],
      "execution_count": 0,
      "outputs": [
        {
          "output_type": "stream",
          "text": [
            "Precision (a mano):  0.984\n",
            "Recall (a mano):     0.975\n",
            "Accuracy (a mano):   0.973\n"
          ],
          "name": "stdout"
        }
      ]
    },
    {
      "metadata": {
        "id": "HFJ-GzwuWg6u",
        "colab_type": "code",
        "outputId": "958de430-3ef2-43cd-fa64-4a2c38831ab5",
        "colab": {
          "base_uri": "https://localhost:8080/",
          "height": 72
        }
      },
      "cell_type": "code",
      "source": [
        "# Ahora con sklearn\n",
        "from sklearn.metrics import precision_score, recall_score, accuracy_score\n",
        "\n",
        "# Debemos usar las opciones \"average='binary'\" y  \"pos_label=0\" para obtener los resultados correctos\n",
        "precision_sk = precision_score(test_y, pred_y, average='binary', pos_label=0)\n",
        "recall_sk = recall_score(test_y, pred_y, average='binary', pos_label=0)\n",
        "\n",
        "accuracy_sk = accuracy_score(test_y, pred_y)\n",
        "\n",
        "print('Precision (sklearn): ', format(precision_sk, '.3f'))\n",
        "print('Recall (sklearn):    ', format(recall_sk, '.3f'))\n",
        "print('Accuracy (sklearn):  ', format(accuracy_sk, '.3f'))\n"
      ],
      "execution_count": 0,
      "outputs": [
        {
          "output_type": "stream",
          "text": [
            "Precision (sklearn):  0.98\n",
            "Recall (sklearn):     0.98\n",
            "Accuracy (sklearn):   0.97\n"
          ],
          "name": "stdout"
        }
      ]
    },
    {
      "metadata": {
        "id": "wq21WIDaVrNV",
        "colab_type": "text"
      },
      "cell_type": "markdown",
      "source": [
        "## Validando estadísticamente el modelo\n",
        "\n",
        "Random subsampling\n",
        "\n",
        "Cross validation"
      ]
    },
    {
      "metadata": {
        "id": "e3zTwq8z0Jjn",
        "colab_type": "code",
        "outputId": "ea6210c0-4757-4682-96b7-0d9bf4a60a0c",
        "colab": {
          "base_uri": "https://localhost:8080/",
          "height": 54
        }
      },
      "cell_type": "code",
      "source": [
        "from sklearn.model_selection import cross_val_score\n",
        "from sklearn.model_selection import StratifiedKFold\n",
        "\n",
        "# Creamos un nuevo clasificador para hacer las pruebas de cross-validation\n",
        "cv_knn_clf = KNeighborsClassifier(n_neighbors=25)\n",
        "\n",
        "# Calculamos el puntaje tomando 10 subconjuntos del conjunto de entrenamiento\n",
        "# Usamos el accuracy como métrica\n",
        "scores = cross_val_score(cv_knn_clf, train_X, train_y, cv=10, scoring=None)\n",
        "\n",
        "print('Cross validation promedio: ', format(scores.mean(), '.3f'))\n",
        "print('Cross validation std:      ', format(scores.std(), '.3f'))"
      ],
      "execution_count": 0,
      "outputs": [
        {
          "output_type": "stream",
          "text": [
            "Cross validation promedio:  0.973\n",
            "Cross validation std:       0.005\n"
          ],
          "name": "stdout"
        }
      ]
    },
    {
      "metadata": {
        "id": "8xj432HI8veo",
        "colab_type": "text"
      },
      "cell_type": "markdown",
      "source": [
        "## Búsqueda de hiperparámetros\n",
        "En el ejemplo anterior sempre consideramos el mismo clasificador _k-nearest neighbors_, el cual utilizaba 25 vecinos (`n_neighbors=25`). Sin embargo, ¿cómo podemos saber que elegimos el tamaño correcto?\n",
        "\n",
        "En esta sección variaremos el numero de vecinos para encontrar el tamaño óptimo. Esto se conoce como **búsqueda de hiperparámetros**, lo que dará paso a distintos modelos con distintos desempeños.\n"
      ]
    },
    {
      "metadata": {
        "id": "zfz91oBIIKps",
        "colab_type": "text"
      },
      "cell_type": "markdown",
      "source": [
        "### Iteraciones sobre toto el espacio de parámetros\n",
        "El caso más directo es iterar sobre una grilla del espacio de parámetros. Para ello, crearemos un vector de N números de vecinos equiespaciados, y entrenaremos el clasificador secuencialmente con cada uno calculando su métrica de cross-validation"
      ]
    },
    {
      "metadata": {
        "id": "eEWJTXweEPGX",
        "colab_type": "code",
        "colab": {}
      },
      "cell_type": "code",
      "source": [
        "# Primer ejemplo, iterando\n",
        "neighbors = np.arange(1,25,1)\n",
        "scores = np.zeros(np.shape(neighbors))\n",
        "stds = np.zeros(np.shape(neighbors))\n",
        "\n",
        "\n",
        "for s, n in enumerate(neighbors):\n",
        "  clf = KNeighborsClassifier(n_neighbors=n)\n",
        "  cv_scores = cross_val_score(clf, train_X, train_y, cv=10, scoring=\"accuracy\")\n",
        "  scores[s] = cv_scores.mean()\n",
        "  stds[s] = cv_scores.std()"
      ],
      "execution_count": 0,
      "outputs": []
    },
    {
      "metadata": {
        "id": "cYn5tDszFtco",
        "colab_type": "code",
        "outputId": "17308c6f-bd81-4e03-d9d6-0380f77b99a2",
        "colab": {
          "base_uri": "https://localhost:8080/",
          "height": 394
        }
      },
      "cell_type": "code",
      "source": [
        "import matplotlib.pyplot as plt\n",
        "\n",
        "plt.fill_between(neighbors, scores-stds, scores+stds, alpha=0.3)\n",
        "plt.plot(neighbors, scores)\n",
        "plt.xlabel('Número de vecinos')\n",
        "plt.ylabel('Puntaje de Cross-Validation')\n",
        "plt.title('Puntaje en función del número de vecinos')"
      ],
      "execution_count": 0,
      "outputs": [
        {
          "output_type": "execute_result",
          "data": {
            "text/plain": [
              "Text(0.5, 1.0, 'Puntaje en función del número de vecinos')"
            ]
          },
          "metadata": {
            "tags": []
          },
          "execution_count": 195
        },
        {
          "output_type": "display_data",
          "data": {
            "image/png": "[encoded data removed]",
            "text/plain": [
              "<Figure size 576x396 with 1 Axes>"
            ]
          },
          "metadata": {
            "tags": []
          }
        }
      ]
    },
    {
      "metadata": {
        "id": "UZkajKib_9uw",
        "colab_type": "code",
        "outputId": "07f82bc4-cd4d-482d-ffb3-3456753b029b",
        "colab": {
          "base_uri": "https://localhost:8080/",
          "height": 164
        }
      },
      "cell_type": "code",
      "source": [
        "from scipy.stats import randint as sp_randint\n",
        "\n",
        "from sklearn.model_selection import GridSearchCV\n",
        "from sklearn.model_selection import RandomizedSearchCV\n",
        "\n",
        "# Creamos un nuevo clasificador para hacer las pruebas de cross-validation\n",
        "ms_knn_clf = KNeighborsClassifier(n_neighbors=25)\n",
        "\n",
        "\n",
        "param_dist = {\"n_neighbors\": sp_randint(1,100)}\n",
        "\n",
        "n_iter_search = 20\n",
        "random_search = RandomizedSearchCV(ms_knn_clf, param_distributions=param_dist, n_iter = n_iter_search, cv=5)\n",
        "\n",
        "random_search.fit(train_X, train_y)\n"
      ],
      "execution_count": 0,
      "outputs": [
        {
          "output_type": "execute_result",
          "data": {
            "text/plain": [
              "RandomizedSearchCV(cv=5, error_score='raise-deprecating',\n",
              "          estimator=KNeighborsClassifier(algorithm='auto', leaf_size=30, metric='minkowski',\n",
              "           metric_params=None, n_jobs=None, n_neighbors=25, p=2,\n",
              "           weights='uniform'),\n",
              "          fit_params=None, iid='warn', n_iter=20, n_jobs=None,\n",
              "          param_distributions={'n_neighbors': <scipy.stats._distn_infrastructure.rv_frozen object at 0x7f5e19fcd390>},\n",
              "          pre_dispatch='2*n_jobs', random_state=None, refit=True,\n",
              "          return_train_score='warn', scoring=None, verbose=0)"
            ]
          },
          "metadata": {
            "tags": []
          },
          "execution_count": 151
        }
      ]
    },
    {
      "metadata": {
        "id": "1qzzacMHDvAE",
        "colab_type": "code",
        "outputId": "e14d799b-0e86-4206-8e94-0922187351ae",
        "colab": {
          "base_uri": "https://localhost:8080/",
          "height": 1488
        }
      },
      "cell_type": "code",
      "source": [
        "random_search.cv_results_"
      ],
      "execution_count": 0,
      "outputs": [
        {
          "output_type": "stream",
          "text": [
            "/usr/local/lib/python3.6/dist-packages/sklearn/utils/deprecation.py:125: FutureWarning: You are accessing a training score ('mean_train_score'), which will not be available by default any more in 0.21. If you need training scores, please set return_train_score=True\n",
            "  warnings.warn(*warn_args, **warn_kwargs)\n",
            "/usr/local/lib/python3.6/dist-packages/sklearn/utils/deprecation.py:125: FutureWarning: You are accessing a training score ('split0_train_score'), which will not be available by default any more in 0.21. If you need training scores, please set return_train_score=True\n",
            "  warnings.warn(*warn_args, **warn_kwargs)\n",
            "/usr/local/lib/python3.6/dist-packages/sklearn/utils/deprecation.py:125: FutureWarning: You are accessing a training score ('split1_train_score'), which will not be available by default any more in 0.21. If you need training scores, please set return_train_score=True\n",
            "  warnings.warn(*warn_args, **warn_kwargs)\n",
            "/usr/local/lib/python3.6/dist-packages/sklearn/utils/deprecation.py:125: FutureWarning: You are accessing a training score ('split2_train_score'), which will not be available by default any more in 0.21. If you need training scores, please set return_train_score=True\n",
            "  warnings.warn(*warn_args, **warn_kwargs)\n",
            "/usr/local/lib/python3.6/dist-packages/sklearn/utils/deprecation.py:125: FutureWarning: You are accessing a training score ('split3_train_score'), which will not be available by default any more in 0.21. If you need training scores, please set return_train_score=True\n",
            "  warnings.warn(*warn_args, **warn_kwargs)\n",
            "/usr/local/lib/python3.6/dist-packages/sklearn/utils/deprecation.py:125: FutureWarning: You are accessing a training score ('split4_train_score'), which will not be available by default any more in 0.21. If you need training scores, please set return_train_score=True\n",
            "  warnings.warn(*warn_args, **warn_kwargs)\n",
            "/usr/local/lib/python3.6/dist-packages/sklearn/utils/deprecation.py:125: FutureWarning: You are accessing a training score ('std_train_score'), which will not be available by default any more in 0.21. If you need training scores, please set return_train_score=True\n",
            "  warnings.warn(*warn_args, **warn_kwargs)\n"
          ],
          "name": "stderr"
        },
        {
          "output_type": "execute_result",
          "data": {
            "text/plain": [
              "{'mean_fit_time': array([0.01, 0.01, 0.01, 0.01, 0.01, 0.01, 0.01, 0.01, 0.01, 0.01, 0.01,\n",
              "        0.01, 0.01, 0.01, 0.01, 0.01, 0.01, 0.01, 0.01, 0.01]),\n",
              " 'mean_score_time': array([0.09, 0.1 , 0.14, 0.13, 0.15, 0.15, 0.16, 0.11, 0.13, 0.14, 0.09,\n",
              "        0.15, 0.15, 0.13, 0.08, 0.11, 0.13, 0.09, 0.09, 0.11]),\n",
              " 'mean_test_score': array([0.97, 0.97, 0.97, 0.97, 0.97, 0.97, 0.97, 0.97, 0.97, 0.97, 0.97,\n",
              "        0.97, 0.97, 0.97, 0.97, 0.97, 0.97, 0.97, 0.97, 0.97]),\n",
              " 'mean_train_score': array([0.98, 0.97, 0.97, 0.97, 0.97, 0.97, 0.97, 0.97, 0.97, 0.97, 0.98,\n",
              "        0.97, 0.97, 0.97, 0.98, 0.97, 0.97, 0.98, 0.98, 0.97]),\n",
              " 'param_n_neighbors': masked_array(data=[4, 13, 72, 54, 72, 79, 83, 28, 62, 82, 10, 79, 83, 54,\n",
              "                    3, 33, 63, 10, 9, 33],\n",
              "              mask=[False, False, False, False, False, False, False, False,\n",
              "                    False, False, False, False, False, False, False, False,\n",
              "                    False, False, False, False],\n",
              "        fill_value='?',\n",
              "             dtype=object),\n",
              " 'params': [{'n_neighbors': 4},\n",
              "  {'n_neighbors': 13},\n",
              "  {'n_neighbors': 72},\n",
              "  {'n_neighbors': 54},\n",
              "  {'n_neighbors': 72},\n",
              "  {'n_neighbors': 79},\n",
              "  {'n_neighbors': 83},\n",
              "  {'n_neighbors': 28},\n",
              "  {'n_neighbors': 62},\n",
              "  {'n_neighbors': 82},\n",
              "  {'n_neighbors': 10},\n",
              "  {'n_neighbors': 79},\n",
              "  {'n_neighbors': 83},\n",
              "  {'n_neighbors': 54},\n",
              "  {'n_neighbors': 3},\n",
              "  {'n_neighbors': 33},\n",
              "  {'n_neighbors': 63},\n",
              "  {'n_neighbors': 10},\n",
              "  {'n_neighbors': 9},\n",
              "  {'n_neighbors': 33}],\n",
              " 'rank_test_score': array([ 9,  3, 14, 10, 14, 16, 19,  6, 13, 18,  1, 16, 19, 10,  5,  7, 12,\n",
              "         1,  4,  7], dtype=int32),\n",
              " 'split0_test_score': array([0.97, 0.97, 0.97, 0.97, 0.97, 0.96, 0.96, 0.97, 0.97, 0.96, 0.97,\n",
              "        0.96, 0.96, 0.97, 0.97, 0.97, 0.97, 0.97, 0.97, 0.97]),\n",
              " 'split0_train_score': array([0.98, 0.98, 0.97, 0.97, 0.97, 0.97, 0.97, 0.97, 0.97, 0.97, 0.98,\n",
              "        0.97, 0.97, 0.97, 0.98, 0.97, 0.97, 0.98, 0.98, 0.97]),\n",
              " 'split1_test_score': array([0.97, 0.97, 0.97, 0.97, 0.97, 0.97, 0.97, 0.97, 0.97, 0.97, 0.97,\n",
              "        0.97, 0.97, 0.97, 0.97, 0.97, 0.97, 0.97, 0.97, 0.97]),\n",
              " 'split1_train_score': array([0.98, 0.97, 0.97, 0.97, 0.97, 0.97, 0.97, 0.97, 0.97, 0.97, 0.98,\n",
              "        0.97, 0.97, 0.97, 0.98, 0.97, 0.97, 0.98, 0.98, 0.97]),\n",
              " 'split2_test_score': array([0.97, 0.97, 0.97, 0.97, 0.97, 0.97, 0.97, 0.97, 0.97, 0.97, 0.97,\n",
              "        0.97, 0.97, 0.97, 0.97, 0.97, 0.97, 0.97, 0.97, 0.97]),\n",
              " 'split2_train_score': array([0.98, 0.97, 0.97, 0.97, 0.97, 0.97, 0.97, 0.97, 0.97, 0.97, 0.98,\n",
              "        0.97, 0.97, 0.97, 0.98, 0.97, 0.97, 0.98, 0.98, 0.97]),\n",
              " 'split3_test_score': array([0.97, 0.98, 0.97, 0.97, 0.97, 0.97, 0.97, 0.98, 0.97, 0.97, 0.98,\n",
              "        0.97, 0.97, 0.97, 0.98, 0.98, 0.97, 0.98, 0.98, 0.98]),\n",
              " 'split3_train_score': array([0.98, 0.97, 0.97, 0.97, 0.97, 0.97, 0.97, 0.97, 0.97, 0.97, 0.97,\n",
              "        0.97, 0.97, 0.97, 0.98, 0.97, 0.97, 0.97, 0.97, 0.97]),\n",
              " 'split4_test_score': array([0.97, 0.98, 0.97, 0.97, 0.97, 0.97, 0.97, 0.97, 0.97, 0.97, 0.98,\n",
              "        0.97, 0.97, 0.97, 0.97, 0.97, 0.97, 0.98, 0.98, 0.97]),\n",
              " 'split4_train_score': array([0.98, 0.97, 0.97, 0.97, 0.97, 0.97, 0.97, 0.97, 0.97, 0.97, 0.98,\n",
              "        0.97, 0.97, 0.97, 0.98, 0.97, 0.97, 0.98, 0.98, 0.97]),\n",
              " 'std_fit_time': array([0., 0., 0., 0., 0., 0., 0., 0., 0., 0., 0., 0., 0., 0., 0., 0., 0.,\n",
              "        0., 0., 0.]),\n",
              " 'std_score_time': array([0.  , 0.  , 0.  , 0.  , 0.  , 0.  , 0.01, 0.  , 0.  , 0.  , 0.  ,\n",
              "        0.  , 0.  , 0.  , 0.  , 0.  , 0.  , 0.  , 0.  , 0.  ]),\n",
              " 'std_test_score': array([0., 0., 0., 0., 0., 0., 0., 0., 0., 0., 0., 0., 0., 0., 0., 0., 0.,\n",
              "        0., 0., 0.]),\n",
              " 'std_train_score': array([0., 0., 0., 0., 0., 0., 0., 0., 0., 0., 0., 0., 0., 0., 0., 0., 0.,\n",
              "        0., 0., 0.])}"
            ]
          },
          "metadata": {
            "tags": []
          },
          "execution_count": 157
        }
      ]
    }
  ]
}