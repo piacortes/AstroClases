{
  "nbformat": 4,
  "nbformat_minor": 0,
  "metadata": {
    "colab": {
      "name": "Actividad 3 - Astronomía Galáctica.ipynb",
      "version": "0.3.2",
      "provenance": [],
      "include_colab_link": true
    },
    "kernelspec": {
      "name": "python2",
      "display_name": "Python 2"
    }
  },
  "cells": [
    {
      "cell_type": "markdown",
      "metadata": {
        "id": "view-in-github",
        "colab_type": "text"
      },
      "source": [
        "<a href=\"https://colab.research.google.com/github/piacortes/astroclases/blob/master/Actividad_3_Astronom%C3%ADa_Gal%C3%A1ctica.ipynb\" target=\"_parent\"><img src=\"https://colab.research.google.com/assets/colab-badge.svg\" alt=\"Open In Colab\"/></a>"
      ]
    },
    {
      "metadata": {
        "id": "nMI-_4E2YNGW",
        "colab_type": "text"
      },
      "cell_type": "markdown",
      "source": [
        "#EI2001: Ciencia de datos en Astronomía\n",
        "**Profesores:** Pía Cortés, Daniela Barrientos, Matías Suazo, Matías Mattamala\n",
        "\n",
        "#Actividad Clase 3 - Uso de Astropy y Pandas.\n",
        "\n",
        "###Objetivos:\n",
        "1. Conocer la librerías Astropy y Pandas.\n",
        "2. Reconocer el uso de Astropy con imágenes astronómicas. \n",
        "3. Trabajar con Pandas y bases de datos provevientes de Gaia y Kepler"
      ]
    },
    {
      "metadata": {
        "id": "vxFUSoX3Xg-j",
        "colab_type": "text"
      },
      "cell_type": "markdown",
      "source": [
        "##Astropy\n",
        "\n",
        "([Documentación](https://docs.astropy.org/en/stable/))\n",
        "\n",
        "\n",
        "`Astropy` es una de las librerías de Python que más se ocupan en astronomía. Incluye módulos y herramientas muy útiles y necesarias en astronomía, como por ejemplo:\n",
        "- Constantes astronómicas y cosmológicas.\n",
        "- Conversiones de tiempo y distancias.\n",
        "- Manejo de datos astronómicos en formas de `ndarray`.\n",
        "- Transformaciones de systemas de coordenadas.\n",
        "- Herramientas para analysis estadístico y modelamiento.\n",
        "- etc.\n",
        "\n",
        "Como vimos en clases, el tipo de archivo más utilizado para manejar imágenes astrómicas es el `FIT: Flexible Image Transport`. La mayoría de los telescopios en el mundo utiliza este sistema de almacenaje de datos y la comunidad astronómica lo ha hecho uno de sus estándares más importantes.\n",
        "\n",
        "###FIT\n",
        "\n",
        "Sistema de almacenamiento de datos astronómicos en forma de `ndarray`. Tiene dos componentes principales: header y data. Header es una tabla de información con la forma de diccionario, mientras que data puede ser un `array` de 2 dimiensiones o un cubo, con más de dos dimensiones. Para los siguientes ejempos consideraremos la componente data como un `ndarray` de dos dimensiones.\n",
        "\n",
        "\n",
        "\n",
        "\n"
      ]
    },
    {
      "metadata": {
        "id": "I5erEMh76iEi",
        "colab_type": "text"
      },
      "cell_type": "markdown",
      "source": [
        "###1. Abrir y leer un archivo `FIT` de la Nebulosa Horse Head"
      ]
    },
    {
      "metadata": {
        "id": "8M2RZFUYYCy4",
        "colab_type": "code",
        "colab": {}
      },
      "cell_type": "code",
      "source": [
        "# Importar las librerías que usaremos: matplotlib y astropy. \n",
        "# Considerar que solo ocuparemos los módulos fits y download_file de astropy.\n",
        "\n",
        "import matplotlib.pyplot as plt\n",
        "from astropy.io import fits \n",
        "from astropy.utils.data import download_file\n",
        "\n"
      ],
      "execution_count": 0,
      "outputs": []
    },
    {
      "metadata": {
        "id": "EswVghLj7HzM",
        "colab_type": "code",
        "colab": {
          "base_uri": "https://localhost:8080/",
          "height": 34
        },
        "outputId": "63fd0a43-1674-40ac-c242-b308a78502ad"
      },
      "cell_type": "code",
      "source": [
        "# Descargamos el archivo FIT\n",
        "file = download_file(\"https://github.com/astrodatos/Clase3/raw/master/HorseHead.fits\", cache=True )"
      ],
      "execution_count": 6,
      "outputs": [
        {
          "output_type": "stream",
          "text": [
            "Downloading https://github.com/astrodatos/Clase3/raw/master/HorseHead.fits [Done]\n"
          ],
          "name": "stdout"
        }
      ]
    },
    {
      "metadata": {
        "id": "0s0mdyrH7P2Y",
        "colab_type": "code",
        "colab": {}
      },
      "cell_type": "code",
      "source": [
        "# Abrir archivo fits guardado en file\n",
        "hdu = fits.open(file)"
      ],
      "execution_count": 0,
      "outputs": []
    },
    {
      "metadata": {
        "id": "Qk3DL-SyBm-L",
        "colab_type": "code",
        "colab": {
          "base_uri": "https://localhost:8080/",
          "height": 34
        },
        "outputId": "e722da3c-89ec-44f1-e537-9ffa7fc34e2f"
      },
      "cell_type": "code",
      "source": [
        "# Por si solo, es un objeto\n",
        "hdu"
      ],
      "execution_count": 11,
      "outputs": [
        {
          "output_type": "execute_result",
          "data": {
            "text/plain": [
              "[<astropy.io.fits.hdu.image.PrimaryHDU object at 0x7f9b95025c90>, <astropy.io.fits.hdu.table.TableHDU object at 0x7f9b950303d0>]"
            ]
          },
          "metadata": {
            "tags": []
          },
          "execution_count": 11
        }
      ]
    },
    {
      "metadata": {
        "id": "vCAdiNY_Bn-u",
        "colab_type": "code",
        "colab": {
          "base_uri": "https://localhost:8080/",
          "height": 86
        },
        "outputId": "fa62e751-6a6b-4c68-af62-c0f3d2d86239"
      },
      "cell_type": "code",
      "source": [
        "hdu.info()"
      ],
      "execution_count": 13,
      "outputs": [
        {
          "output_type": "stream",
          "text": [
            "Filename: /root/.astropy/cache/download/py2/2c9202ae878ecfcb60878ceb63837f5f\n",
            "No.    Name      Ver    Type      Cards   Dimensions   Format\n",
            "  0  PRIMARY       1 PrimaryHDU     161   (891, 893)   int16   \n",
            "  1  er.mask       1 TableHDU        25   1600R x 4C   [F6.2, F6.2, F6.2, F6.2]   \n"
          ],
          "name": "stdout"
        }
      ]
    },
    {
      "metadata": {
        "id": "RWhiRmxKB-fO",
        "colab_type": "code",
        "colab": {}
      },
      "cell_type": "code",
      "source": [
        ""
      ],
      "execution_count": 0,
      "outputs": []
    }
  ]
}