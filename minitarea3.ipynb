{
  "nbformat": 4,
  "nbformat_minor": 0,
  "metadata": {
    "colab": {
      "name": "minitarea3.ipynb",
      "version": "0.3.2",
      "provenance": [],
      "include_colab_link": true
    },
    "kernelspec": {
      "name": "python3",
      "display_name": "Python 3"
    }
  },
  "cells": [
    {
      "cell_type": "markdown",
      "metadata": {
        "id": "view-in-github",
        "colab_type": "text"
      },
      "source": [
        "<a href=\"https://colab.research.google.com/github/piacortes/astroclases/blob/master/minitarea3.ipynb\" target=\"_parent\"><img src=\"https://colab.research.google.com/assets/colab-badge.svg\" alt=\"Open In Colab\"/></a>"
      ]
    },
    {
      "metadata": {
        "id": "h8QtpuGe3Xa6",
        "colab_type": "text"
      },
      "cell_type": "markdown",
      "source": [
        "# EI2001: Ciencia de Datos en Astronomía\n",
        "\n",
        "**Profesores:** Pía Cortés, Daniela Barrientos, Matías Suazo, Matías Mattamala\n",
        "\n",
        "## Minitarea 3: Uso de Atropy y Pandas\n",
        "\n",
        "**Objetivos:**\n",
        "\n",
        "1. hola\n",
        "2. hola\n",
        "3. hola\n",
        "\n",
        "\n",
        "**Instrucciones:**\n",
        "\n",
        "1. Lean cuidadosamente todo lo que viene ahora\n",
        "2. Para hacer esta tarea deben que hacer un **fork** del repositorio en sus cuentas de GitHub.\n",
        "4. Abrir [Google Colab](https://colab.research.google.com) y seleccionar \"abrir un archivo desde GitHub\". Deben seleccionar su cuenta Github y escoger el repositorio que corresponde al fork que hicieron.\n",
        "5. Si todo sale bien, debería abrirse una copia de este notebook en su cuenta de Google Colab.\n",
        "6. Se adjuntan 6 mini actividades a completar. **TODAS** son necesarias y deben completar lo que se va pidiendo.\n",
        "7. Cada vez que completen un ítem, deben guardar un avance en su fork de GitHub, de modo de **respaldar cada avance significativo**. Usen comentarios coherentes con cada respaldo \"Sección 1 completa\", \"Tarea terminada\", no solamente el que pone por defecto.\n"
      ]
    },
    {
      "metadata": {
        "id": "Z_xWmWr0OeKG",
        "colab_type": "text"
      },
      "cell_type": "markdown",
      "source": [
        "##1. Abrir un FIT con Astropy y sacar información de su header\n",
        "\n",
        "La primera parte de esta minitarea consiste en descargar un nuevo archivo `FIT` desconocido. Usando lo que aprendimos en clases, debemos sacar información importante de su header.\n",
        "\n",
        "Para comenzar, debes descargar el archivo `FIT`  dado y luego, abrirlo usando el módulo `fits` de  `Astropy` para guardalo en una variable llamada hdu:"
      ]
    },
    {
      "metadata": {
        "id": "lJ17nBAUbHQ_",
        "colab_type": "code",
        "colab": {}
      },
      "cell_type": "code",
      "source": [
        "import matplotlib.pyplot as plt\n",
        "from astropy.io import fits \n",
        "from astropy.utils.data import download_file\n",
        "import numpy as np\n",
        "\n",
        "archivo = download_file(\"https://github.com/astrodatos/Clase3/raw/master/lsc1m005-kb69-20160621-0111-e91.fits.fz\", cache=True )\n",
        "#hdu = "
      ],
      "execution_count": 0,
      "outputs": []
    },
    {
      "metadata": {
        "id": "xygwOs2ishhZ",
        "colab_type": "text"
      },
      "cell_type": "markdown",
      "source": [
        "Como comentamos en clases, no existe un estandar universal sobre los header provenientes de distintos telescopios. **En este caso particular, la información del fit no vive en `hdu[0]`, sino que en `hdu[1]`.**"
      ]
    },
    {
      "metadata": {
        "id": "X1AzeChrs6cO",
        "colab_type": "code",
        "colab": {}
      },
      "cell_type": "code",
      "source": [
        "print(hdu.info())"
      ],
      "execution_count": 0,
      "outputs": []
    },
    {
      "metadata": {
        "id": "H3cO0bI1t2EY",
        "colab_type": "code",
        "colab": {}
      },
      "cell_type": "code",
      "source": [
        ""
      ],
      "execution_count": 0,
      "outputs": []
    },
    {
      "metadata": {
        "id": "e3u28hJluIjo",
        "colab_type": "text"
      },
      "cell_type": "markdown",
      "source": [
        "Ahora, debes inspeccionar el header. Hazle un print para ver que forma tiene el diccionario: sus llaves (keys) y valores asignados. "
      ]
    },
    {
      "metadata": {
        "id": "qbb6yFqQuaov",
        "colab_type": "code",
        "colab": {}
      },
      "cell_type": "code",
      "source": [
        "print()"
      ],
      "execution_count": 0,
      "outputs": []
    },
    {
      "metadata": {
        "id": "tRBXWUbSudS0",
        "colab_type": "text"
      },
      "cell_type": "markdown",
      "source": [
        "Debes identificar las llaves que contengan información acerca de: \n",
        "1. objeto astronómico que se observó.\n",
        "2. qué filtro se usó.\n",
        "3. la fecha de la observación.\n",
        "4. desde qué observatorio. \n",
        "\n",
        "Para completar los siguientes print,  primero debes crear una variable para cada uno de los datos que necesitamos y guardar la información directamente desde el header, habiendo ya identificado el `key` del diccionario donde vive cada información."
      ]
    },
    {
      "metadata": {
        "id": "sBuFNVMAwUxX",
        "colab_type": "code",
        "colab": {}
      },
      "cell_type": "code",
      "source": [
        "# Crea 4 variables para guardar la información del header requerida. Recuerda que no sirve leer a ojo el valor y escribirlo.\n",
        "# Debe ser asignado usando los beneficios de ser un array, de la forma genérica: header[\"key\"]\n",
        "\n",
        "\n"
      ],
      "execution_count": 0,
      "outputs": []
    },
    {
      "metadata": {
        "id": "Yu6FOiphu-Cm",
        "colab_type": "code",
        "colab": {
          "base_uri": "https://localhost:8080/",
          "height": 34
        },
        "outputId": "8943c466-127e-4367-a7e0-6c9cf9cb64f5"
      },
      "cell_type": "code",
      "source": [
        "print(\"Se observó el siguiente objeto astronómico:\",)\n",
        "print(\"Se utilizó el filtro:\",)\n",
        "print(\"La fecha es:\",)\n",
        "print(\"Se observó desde el observatorio:\",)"
      ],
      "execution_count": 3,
      "outputs": [
        {
          "output_type": "stream",
          "text": [
            "Se observó el siguiente objeto astronómico: ol2\n"
          ],
          "name": "stdout"
        }
      ]
    },
    {
      "metadata": {
        "id": "k_DZAkDawthV",
        "colab_type": "text"
      },
      "cell_type": "markdown",
      "source": [
        "###2. Mostrar la imagen con imshow\n",
        "\n",
        "La segunda parte de esta actividad consiste en mostrar la imagen con imshow y modificarla para que se vea más bonita. \n",
        "\n",
        "Primero, debes asignar en la variable `imagen` la compenente del header que contiene la matriz que forma la imagen astronómica. Recuerda que en este fits específico, el header y la imagen viven en `hdu[1]`."
      ]
    },
    {
      "metadata": {
        "id": "M36dX78oxNZo",
        "colab_type": "code",
        "colab": {}
      },
      "cell_type": "code",
      "source": [
        "imagen = "
      ],
      "execution_count": 0,
      "outputs": []
    },
    {
      "metadata": {
        "id": "OJbQ4ZRbxZfT",
        "colab_type": "text"
      },
      "cell_type": "markdown",
      "source": [
        "Vamos a importar un módulo de `matplotlib` que nos permitirá cambiar la escala de colores de la imagen, como por ejemplo, a una logaritmica. \n",
        "\n",
        "Ahora, debes completar el siguiente bloque de código para mostrar la imagen que viene en este fit."
      ]
    },
    {
      "metadata": {
        "id": "RlW0U_kYxhyq",
        "colab_type": "code",
        "colab": {}
      },
      "cell_type": "code",
      "source": [
        "from matplotlib.colors import LogNorm\n",
        "\n",
        "\n",
        "\n",
        "# El siguiente comando hará que no se vean las líneas sobre la imagen\n",
        "plt.grid(b=None)"
      ],
      "execution_count": 0,
      "outputs": []
    },
    {
      "metadata": {
        "id": "9G5E9e0JxiTl",
        "colab_type": "text"
      },
      "cell_type": "markdown",
      "source": [
        "Se supone que en esta imagen deberíamos ver una galaxia en el centro, sin embargo, casi no se ve nada. Esto ocurre cuando la escala de colores no es la correcta. Para utilizar una escala logarítmica por ejemplo, debes agregar el siguiente argumento a la función imshow(): `norm = LogNorm()`.\n",
        "\n",
        "Plotea nuevamente el gráfico, pero ahora con la escala logarítmica."
      ]
    },
    {
      "metadata": {
        "id": "B2zJySr8xzaN",
        "colab_type": "code",
        "colab": {}
      },
      "cell_type": "code",
      "source": [
        "# Plot acá"
      ],
      "execution_count": 0,
      "outputs": []
    },
    {
      "metadata": {
        "id": "fumufmKVy4I8",
        "colab_type": "text"
      },
      "cell_type": "markdown",
      "source": [
        "Ahora se observa una pequeña zona más brillante en el centro: es una galaxia! Sin embargo, nos gustaría verla más de cerca. Como la imagen es una matriz de valores, lo que debes hacer a continuación es un slicing de los datos para seleccionar un cuadrado.\n",
        "\n",
        "**HINT** El slicing en una matriz de hace de la forma `array[inicio_fila:fin_fila,inicio_columna:fin_columna]`. Si necesitan más ayuda, google es su mejor amigo :)\n",
        "\n",
        "Luego de tener el cuadrado que contiene la imagen, debes plotearla con escala logarítmica de colores."
      ]
    },
    {
      "metadata": {
        "id": "TXq3hi2pxz5y",
        "colab_type": "code",
        "colab": {}
      },
      "cell_type": "code",
      "source": [
        "# Slicing del cuadrado con la galaxia y plot acá\n"
      ],
      "execution_count": 0,
      "outputs": []
    },
    {
      "metadata": {
        "id": "dQACI0vV2hCv",
        "colab_type": "text"
      },
      "cell_type": "markdown",
      "source": [
        "###3. "
      ]
    },
    {
      "metadata": {
        "id": "jkv-ch1U2dWH",
        "colab_type": "code",
        "colab": {}
      },
      "cell_type": "code",
      "source": [
        "import pandas as pd"
      ],
      "execution_count": 0,
      "outputs": []
    },
    {
      "metadata": {
        "id": "8ciY6gIn4AwB",
        "colab_type": "code",
        "colab": {
          "base_uri": "https://localhost:8080/",
          "height": 54
        },
        "outputId": "c7a391e3-01e0-466f-cf5f-2535e5deceda"
      },
      "cell_type": "code",
      "source": [
        ""
      ],
      "execution_count": 7,
      "outputs": [
        {
          "output_type": "stream",
          "text": [
            "Downloading https://raw.githubusercontent.com/piacortes/astroclases/master/planets.csv?token=AXWBlnRlbOADXAfY-qtBxFJQ3SugzCucks5cpBbnwA%3D%3D [Done]\n"
          ],
          "name": "stdout"
        }
      ]
    },
    {
      "metadata": {
        "id": "QrBV5RT_7M4f",
        "colab_type": "code",
        "colab": {}
      },
      "cell_type": "code",
      "source": [
        ""
      ],
      "execution_count": 0,
      "outputs": []
    }
  ]
}